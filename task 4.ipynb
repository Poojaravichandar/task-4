{
 "cells": [
  {
   "cell_type": "code",
   "execution_count": 1,
   "metadata": {},
   "outputs": [
    {
     "name": "stdout",
     "output_type": "stream",
     "text": [
      "[10, 501, 22, 37, 100, 999, 87, 351]\n"
     ]
    }
   ],
   "source": [
    "class Circle:\n",
    "# constructor\n",
    "    def __init__(self):\n",
    "# initializing instance variable\n",
    "        self.num=[10,501,22,37,100,999,87,351]\n",
    "\n",
    "# a method\n",
    "    def read_number(self):\n",
    "        print(self.num)\n",
    "\n",
    "# creating object of the class. This invokes constructor\n",
    "obj = Circle()\n",
    "\n",
    "# calling the instance method using the object obj\n",
    "obj.read_number()"
   ]
  },
  {
   "cell_type": "code",
   "execution_count": 2,
   "metadata": {},
   "outputs": [
    {
     "name": "stdout",
     "output_type": "stream",
     "text": [
      "Private Variable value:  33\n"
     ]
    },
    {
     "data": {
      "text/plain": [
       "33"
      ]
     },
     "execution_count": 2,
     "metadata": {},
     "output_type": "execute_result"
    }
   ],
   "source": [
    "class myClass:\n",
    "    a = 33;\n",
    "    def __privMeth(self):\n",
    "        print(\"Im inside class myClass\")\n",
    "    def hello(self):\n",
    "        print(\"Private Variable value: \",myClass.a)\n",
    "foo = myClass()\n",
    "foo.hello()\n",
    "foo.a"
   ]
  },
  {
   "cell_type": "code",
   "execution_count": 3,
   "metadata": {},
   "outputs": [
    {
     "name": "stdout",
     "output_type": "stream",
     "text": [
      "451.2871252038085\n",
      "43.974000000000004\n"
     ]
    }
   ],
   "source": [
    "class Circle():\n",
    "\n",
    "    def __init__(self, r):\n",
    "        self.radius = r\n",
    "\n",
    "    def area(self):\n",
    "        return self.radius**3.141\n",
    "\n",
    "    def perimeter(self):\n",
    "        return 2*self.radius*3.141\n",
    "\n",
    "NewCircle = Circle(7)\n",
    "print(NewCircle.area())\n",
    "print(NewCircle.perimeter())"
   ]
  },
  {
   "cell_type": "code",
   "execution_count": 4,
   "metadata": {},
   "outputs": [
    {
     "name": "stdout",
     "output_type": "stream",
     "text": [
      "LED TV details:\n",
      "Samsung at channel 1, volume 50\n",
      "Screen Thickness: 0.5 inches\n",
      "Energy Usage: 120 kWh\n",
      "Lifespan: 5 years\n",
      "Refresh Rate: 60 Hz\n",
      "Viewing Angle: 0 degrees\n",
      "Backlight: Enabled\n",
      "\n",
      "Plasma TV details:\n",
      "LG at channel 1, volume 50\n",
      "Screen Thickness: 1.0 inches\n",
      "Energy Usage: 150 kWh\n",
      "Lifespan: 7 years\n",
      "Refresh Rate: 50 Hz\n"
     ]
    }
   ],
   "source": [
    "class TV:\n",
    "    def __init__(self, brand):\n",
    "        self.brand = brand\n",
    "        self.channel = 1\n",
    "        self.price = 0\n",
    "        self.inches = 0\n",
    "        self.on = False\n",
    "        self.volume = 50\n",
    "\n",
    "    def increase_volume(self):\n",
    "        if self.volume < 100:\n",
    "            self.volume += 1\n",
    "\n",
    "    def decrease_volume(self):\n",
    "        if self.volume > 0:\n",
    "            self.volume -= 1\n",
    "\n",
    "    def set_channel(self, channel):\n",
    "        if 1 <= channel <= 50:\n",
    "            self.channel = channel\n",
    "\n",
    "    def reset_tv(self):\n",
    "        self.channel = 1\n",
    "        self.volume = 50\n",
    "\n",
    "    def status(self):\n",
    "        return f\"{self.brand} at channel {self.channel}, volume {self.volume}\"\n",
    "\n",
    "\n",
    "class LedTV(TV):\n",
    "    def __init__(self, brand, screen_thickness, energy_usage, lifespan, refresh_rate):\n",
    "        super().__init__(brand)\n",
    "        self.screen_thickness = screen_thickness\n",
    "        self.energy_usage = energy_usage\n",
    "        self.lifespan = lifespan\n",
    "        self.refresh_rate = refresh_rate\n",
    "        self.viewing_angle = 0\n",
    "        self.backlight = True\n",
    "\n",
    "    def display_details(self):\n",
    "        return f\"Screen Thickness: {self.screen_thickness} inches\\nEnergy Usage: {self.energy_usage} kWh\\n\" \\\n",
    "               f\"Lifespan: {self.lifespan} years\\nRefresh Rate: {self.refresh_rate} Hz\\nViewing Angle: \" \\\n",
    "               f\"{self.viewing_angle} degrees\\nBacklight: {'Enabled' if self.backlight else 'Disabled'}\"\n",
    "\n",
    "\n",
    "class PlasmaTV(TV):\n",
    "    def __init__(self, brand, screen_thickness, energy_usage, lifespan, refresh_rate):\n",
    "        super().__init__(brand)\n",
    "        self.screen_thickness = screen_thickness\n",
    "        self.energy_usage = energy_usage\n",
    "        self.lifespan = lifespan\n",
    "        self.refresh_rate = refresh_rate\n",
    "\n",
    "    def display_details(self):\n",
    "        return f\"Screen Thickness: {self.screen_thickness} inches\\nEnergy Usage: {self.energy_usage} kWh\\n\" \\\n",
    "               f\"Lifespan: {self.lifespan} years\\nRefresh Rate: {self.refresh_rate} Hz\"\n",
    "\n",
    "\n",
    "# Example usage\n",
    "if __name__ == \"__main__\":\n",
    "    led_tv = LedTV(\"Samsung\", 0.5, 120, 5, 60)\n",
    "    plasma_tv = PlasmaTV(\"LG\", 1.0, 150, 7, 50)\n",
    "\n",
    "    print(\"LED TV details:\")\n",
    "    print(led_tv.status())\n",
    "    print(led_tv.display_details())\n",
    "\n",
    "    print(\"\\nPlasma TV details:\")\n",
    "    print(plasma_tv.status())\n",
    "    print(plasma_tv.display_details())"
   ]
  },
  {
   "cell_type": "code",
   "execution_count": null,
   "metadata": {},
   "outputs": [],
   "source": []
  }
 ],
 "metadata": {
  "kernelspec": {
   "display_name": "Python 3",
   "language": "python",
   "name": "python3"
  },
  "language_info": {
   "codemirror_mode": {
    "name": "ipython",
    "version": 3
   },
   "file_extension": ".py",
   "mimetype": "text/x-python",
   "name": "python",
   "nbconvert_exporter": "python",
   "pygments_lexer": "ipython3",
   "version": "3.12.2"
  }
 },
 "nbformat": 4,
 "nbformat_minor": 2
}
